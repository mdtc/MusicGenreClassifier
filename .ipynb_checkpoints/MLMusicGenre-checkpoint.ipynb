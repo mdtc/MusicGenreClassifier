{
 "cells": [
  {
   "cell_type": "markdown",
   "id": "59b220c8",
   "metadata": {},
   "source": [
    "# Music Genre Classification \n",
    "### by @fcacharelli and @mdtc"
   ]
  },
  {
   "cell_type": "code",
   "execution_count": null,
   "id": "acea9941",
   "metadata": {},
   "outputs": [],
   "source": [
    "#import Speech lib\n",
    "pip install python_speech_features #in case of not having it installed "
   ]
  },
  {
   "cell_type": "code",
   "execution_count": 1,
   "id": "0b6754e2",
   "metadata": {},
   "outputs": [],
   "source": [
    "#import libraries \n",
    "from python_speech_features import mfcc\n",
    "import scipy.io.wavfile as wav\n",
    "import numpy as np\n",
    "from tempfile import TemporaryFile\n",
    "import os\n",
    "import pickle\n",
    "import random \n",
    "import operator\n",
    "import math\n",
    "import numpy as np"
   ]
  },
  {
   "cell_type": "code",
   "execution_count": null,
   "id": "7d0d68e7",
   "metadata": {},
   "outputs": [],
   "source": [
    "#prepare Dataset"
   ]
  },
  {
   "cell_type": "code",
   "execution_count": null,
   "id": "6efc7f48",
   "metadata": {},
   "outputs": [],
   "source": [
    "#feature Reduction normalise and PCA "
   ]
  },
  {
   "cell_type": "code",
   "execution_count": null,
   "id": "d452a9ed",
   "metadata": {},
   "outputs": [],
   "source": [
    "#Training"
   ]
  },
  {
   "cell_type": "code",
   "execution_count": null,
   "id": "20a56fde",
   "metadata": {},
   "outputs": [],
   "source": [
    "#testing "
   ]
  },
  {
   "cell_type": "code",
   "execution_count": null,
   "id": "3c4740d7",
   "metadata": {},
   "outputs": [],
   "source": [
    "#classify"
   ]
  },
  {
   "cell_type": "code",
   "execution_count": null,
   "id": "ef9a217a",
   "metadata": {},
   "outputs": [],
   "source": [
    "#PRUEBA COMMIT"
   ]
  },
  {
   "cell_type": "code",
   "execution_count": null,
   "id": "516e1135",
   "metadata": {},
   "outputs": [],
   "source": []
  },
  {
   "cell_type": "code",
   "execution_count": null,
   "id": "8386d7f7",
   "metadata": {},
   "outputs": [],
   "source": []
  },
  {
   "cell_type": "code",
   "execution_count": null,
   "id": "392d38b4",
   "metadata": {},
   "outputs": [],
   "source": []
  }
 ],
 "metadata": {
  "kernelspec": {
   "display_name": "Python 3",
   "language": "python",
   "name": "python3"
  },
  "language_info": {
   "codemirror_mode": {
    "name": "ipython",
    "version": 3
   },
   "file_extension": ".py",
   "mimetype": "text/x-python",
   "name": "python",
   "nbconvert_exporter": "python",
   "pygments_lexer": "ipython3",
   "version": "3.8.8"
  }
 },
 "nbformat": 4,
 "nbformat_minor": 5
}
