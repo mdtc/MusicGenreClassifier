{
 "cells": [
  {
   "cell_type": "markdown",
   "id": "59b220c8",
   "metadata": {},
   "source": [
    "# Music Genre Classification \n",
    "### by @fcacharelli and @mdtc"
   ]
  },
  {
   "cell_type": "code",
   "execution_count": 4,
   "id": "acea9941",
   "metadata": {},
   "outputs": [
    {
     "name": "stderr",
     "output_type": "stream",
     "text": [
      "WARNING: pip is being invoked by an old script wrapper. This will fail in a future version of pip.\n",
      "Please see https://github.com/pypa/pip/issues/5599 for advice on fixing the underlying issue.\n",
      "To avoid this problem you can invoke Python with '-m pip' instead of running pip directly.\n"
     ]
    },
    {
     "name": "stdout",
     "output_type": "stream",
     "text": [
      "Collecting python_speech_features\n",
      "  Downloading python_speech_features-0.6.tar.gz (5.6 kB)\n",
      "Building wheels for collected packages: python-speech-features\n",
      "  Building wheel for python-speech-features (setup.py): started\n",
      "  Building wheel for python-speech-features (setup.py): finished with status 'done'\n",
      "  Created wheel for python-speech-features: filename=python_speech_features-0.6-py3-none-any.whl size=5887 sha256=ebe7b349c3c1bfcfd16b4467cea0af82e89dcb476dd4abd8f95ddc802e7e10ff\n",
      "  Stored in directory: c:\\users\\fede y sol\\appdata\\local\\pip\\cache\\wheels\\5b\\60\\87\\28af2605138deac93d162904df42b6fdda1dab9b8757c62aa3\n",
      "Successfully built python-speech-features\n",
      "Installing collected packages: python-speech-features\n",
      "Successfully installed python-speech-features-0.6\n"
     ]
    },
    {
     "data": {
      "text/plain": [
       "0"
      ]
     },
     "execution_count": 4,
     "metadata": {},
     "output_type": "execute_result"
    }
   ],
   "source": [
    "#install Speech lib\n",
    "\n",
    "import pip\n",
    "\n",
    "package_names=['python_speech_features'] #packages to install\n",
    "pip.main(['install'] + package_names + ['--upgrade']) \n",
    "# --upgrade to install or update existing packages\n",
    "\n",
    "#pip install python_speech_features #in case of not having it installed "
   ]
  },
  {
   "cell_type": "code",
   "execution_count": 6,
   "id": "0b6754e2",
   "metadata": {},
   "outputs": [],
   "source": [
    "#import libraries \n",
    "\n",
    "from python_speech_features import mfcc\n",
    "import scipy.io.wavfile as wav\n",
    "import numpy as np\n",
    "from tempfile import TemporaryFile\n",
    "import os\n",
    "import pickle\n",
    "import random \n",
    "import operator\n",
    "import math\n",
    "import numpy as np"
   ]
  },
  {
   "cell_type": "code",
   "execution_count": 25,
   "id": "a467b0f9",
   "metadata": {},
   "outputs": [
    {
     "data": {
      "text/plain": [
       "'C:\\\\Users\\\\Fede y Sol\\\\Desktop\\\\Fede\\\\Data analysis\\\\GitHub\\\\MusicGenreClassifier\\\\data'"
      ]
     },
     "execution_count": 25,
     "metadata": {},
     "output_type": "execute_result"
    }
   ],
   "source": [
    "directory = os.path.dirname(os.path.realpath(\"MLMusicGenre\")) + \"\\\\data\"\n",
    "directory"
   ]
  },
  {
   "cell_type": "code",
   "execution_count": 26,
   "id": "7d0d68e7",
   "metadata": {},
   "outputs": [],
   "source": [
    "#prepare Dataset\n",
    "#practice only, use master branch's dataset.\n",
    "f= open(\"mgenres.dat\" ,'wb')\n",
    "i=0\n",
    "for folder in os.listdir(directory):\n",
    "    i+=1\n",
    "    if i==11 :\n",
    "        break   \n",
    "    for file in os.listdir(directory+\"\\\\\"+folder):  \n",
    "        (rate,sig) = wav.read(directory+\"\\\\\"+folder+\"\\\\\"+file)\n",
    "        mfcc_feat = mfcc(sig,rate ,winlen=0.020, appendEnergy = False)\n",
    "        covariance = np.cov(np.matrix.transpose(mfcc_feat))\n",
    "        mean_matrix = mfcc_feat.mean(0)\n",
    "        feature = (mean_matrix , covariance , i)\n",
    "        pickle.dump(feature , f)\n",
    "f.close() "
   ]
  },
  {
   "cell_type": "code",
   "execution_count": 31,
   "id": "c4160afc",
   "metadata": {},
   "outputs": [],
   "source": [
    "#load Dataset\n",
    "\n",
    "def loadDataSet(fileName):\n",
    "    with open(fileName, \"rb\") as f:\n",
    "        while True:\n",
    "            try:\n",
    "                dataset.append(pickle.load(f))\n",
    "            except EOFError:\n",
    "                f.close()\n",
    "                break\n",
    "    \n",
    "dataset=[]\n",
    "loadDataSet(\"genres.dat\")"
   ]
  },
  {
   "cell_type": "code",
   "execution_count": null,
   "id": "6efc7f48",
   "metadata": {},
   "outputs": [],
   "source": [
    "#feature Reduction normalise and PCA "
   ]
  },
  {
   "cell_type": "code",
   "execution_count": null,
   "id": "d452a9ed",
   "metadata": {},
   "outputs": [],
   "source": [
    "#Training"
   ]
  },
  {
   "cell_type": "code",
   "execution_count": null,
   "id": "20a56fde",
   "metadata": {},
   "outputs": [],
   "source": [
    "#testing "
   ]
  },
  {
   "cell_type": "code",
   "execution_count": null,
   "id": "3c4740d7",
   "metadata": {},
   "outputs": [],
   "source": [
    "#classify"
   ]
  },
  {
   "cell_type": "code",
   "execution_count": null,
   "id": "392d38b4",
   "metadata": {},
   "outputs": [],
   "source": []
  }
 ],
 "metadata": {
  "kernelspec": {
   "display_name": "Python 3",
   "language": "python",
   "name": "python3"
  },
  "language_info": {
   "codemirror_mode": {
    "name": "ipython",
    "version": 3
   },
   "file_extension": ".py",
   "mimetype": "text/x-python",
   "name": "python",
   "nbconvert_exporter": "python",
   "pygments_lexer": "ipython3",
   "version": "3.8.8"
  }
 },
 "nbformat": 4,
 "nbformat_minor": 5
}
